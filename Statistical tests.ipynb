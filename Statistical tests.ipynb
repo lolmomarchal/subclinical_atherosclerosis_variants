{
 "cells": [
  {
   "cell_type": "code",
   "execution_count": 1,
   "id": "ce7fcac0-af40-485a-b091-6103f523bcab",
   "metadata": {},
   "outputs": [],
   "source": [
    "import numpy as np\n",
    "import pandas as pd"
   ]
  },
  {
   "cell_type": "code",
   "execution_count": 3,
   "id": "d54d558a-9061-415f-8fe3-c77fcee5f243",
   "metadata": {},
   "outputs": [
    {
     "name": "stdout",
     "output_type": "stream",
     "text": [
      "Collecting openpyxl\n",
      "  Downloading openpyxl-3.1.5-py2.py3-none-any.whl.metadata (2.5 kB)\n",
      "Collecting et-xmlfile (from openpyxl)\n",
      "  Downloading et_xmlfile-2.0.0-py3-none-any.whl.metadata (2.7 kB)\n",
      "Downloading openpyxl-3.1.5-py2.py3-none-any.whl (250 kB)\n",
      "Downloading et_xmlfile-2.0.0-py3-none-any.whl (18 kB)\n",
      "Installing collected packages: et-xmlfile, openpyxl\n",
      "Successfully installed et-xmlfile-2.0.0 openpyxl-3.1.5\n"
     ]
    }
   ],
   "source": [
    "!pip install openpyxl"
   ]
  },
  {
   "cell_type": "code",
   "execution_count": 5,
   "id": "a0c19bc8-7d1c-4734-80c7-c6c8a207fa34",
   "metadata": {},
   "outputs": [],
   "source": [
    "# statistical tests TET2\n",
    "\n",
    "df = pd.read_excel(r\"D:\\Users\\albao\\Downloads\\TET2_predictions_annotationsall_char.xlsx\")\n"
   ]
  },
  {
   "cell_type": "code",
   "execution_count": 28,
   "id": "52969e91-a595-456f-b907-fa71473c541a",
   "metadata": {},
   "outputs": [
    {
     "name": "stdout",
     "output_type": "stream",
     "text": [
      "                         shapiro_p_chip shapiro_p_nonchip levene_p_value  \\\n",
      "Unnamed: 0                          0.0          0.000003       0.901818   \n",
      "POS                                 0.0               0.0            0.0   \n",
      "REFSEQ_MATCH                        NaN               NaN            NaN   \n",
      "exon                                NaN               NaN            NaN   \n",
      "Amino_acids.1                       NaN               NaN            NaN   \n",
      "...                                 ...               ...            ...   \n",
      "Transcript                          1.0               1.0            NaN   \n",
      "RegulatoryFeature                   1.0               1.0            NaN   \n",
      "MotifFeature                        1.0               1.0            NaN   \n",
      "prediction probabilities            0.0               0.0       0.000064   \n",
      "binarized prediction                0.0               0.0       0.004259   \n",
      "\n",
      "                            test_used test_p_value  \n",
      "Unnamed: 0                mannwhitney          0.0  \n",
      "POS                       mannwhitney          0.0  \n",
      "REFSEQ_MATCH              mannwhitney          NaN  \n",
      "exon                      mannwhitney          NaN  \n",
      "Amino_acids.1             mannwhitney          NaN  \n",
      "...                               ...          ...  \n",
      "Transcript                mannwhitney          1.0  \n",
      "RegulatoryFeature         mannwhitney          1.0  \n",
      "MotifFeature              mannwhitney          1.0  \n",
      "prediction probabilities  mannwhitney          0.0  \n",
      "binarized prediction      mannwhitney          0.0  \n",
      "\n",
      "[81 rows x 5 columns]\n"
     ]
    }
   ],
   "source": [
    "import warnings\n",
    "import pandas as pd\n",
    "from scipy import stats\n",
    "\n",
    "ignore = ['SAMPLE','FILTER','VAR_ID','CHR','REF','ALT','GENE', 'ALLELE','VARIANT_CLASS','BIOTYPE','TYPE','HGVSc','HGVSp','EXON','cDNA_position',\n",
    " 'CDS_position','Amino_acids','Codons','Protein_position', 'GIVEN_REF','USED_REF','BAM_EDIT','IMPACT','CONSEQUENCE','SOMATIC',\n",
    " 'PHENO','CLIN_SIG','COSMIC_MATCH','HEURISTIC','PREVIOUSLY_IDENTIFIED','WHITELIST','ARTIFACT','SIFT_DESC','SIFT_SCORE','POLYPHEN_DESC',\n",
    " 'POLYPHEN_SCORE','CADD_PHRED','CADD_RAW','REF_DEPTH_VIS1','ALT_DEPTH_VIS1','F1R2_VIS1','F2R1_VIS1','REF_DEPTH_VIS3',\n",
    " 'ALT_DEPTH_VIS3','F1R2_VIS3','F2R1_VIS3','VAF_VIS1','VAF_VIS3','VAF_ABSOLUTA','VAF_RELATIVA','VAF_RATIO','CHIP_driver',\n",
    " 'FU_yrs','AER','log_positive_AER','log_AER','N','doubling_time','doubling_time_wo_outliers','log_ratio_VAF_years','VAF_absolute_yrs','growth_lm_VAF',\n",
    " 'growth_lm_log_VAF','fitness_exp','region_normal','region_alt','POS.1',\"FEATURE\", \"STRAND\", \"IMPACT.1\", 'VARIANT_CLASS.1',]\n",
    "df[\"CpG variant\"] = df[\"CpG variant\"].map({'Not CPG variant':0, 'removed':-1, 'added':1})\n",
    "warnings.filterwarnings(\"ignore\")\n",
    "\n",
    "tf = pd.DataFrame()\n",
    "for item in df.columns:\n",
    "    if item in ignore:\n",
    "        continue\n",
    "    positive = df[df[\"CHIP_driver\"] == \"YES\"][item]\n",
    "    negative = df[df[\"CHIP_driver\"] == \"NO\"][item]\n",
    "    \n",
    "    # shapiro wilk drivers\n",
    "    _, pos_shapiro_p = stats.shapiro(positive)\n",
    "    _, neg_shapiro_p = stats.shapiro(negative)\n",
    "    \n",
    "    # shapiro wilk non drivers\n",
    "    _, levene_p = stats.levene(positive, negative)\n",
    "    \n",
    "    # if normal distribution for both use t test, else use a mannwhitney test\n",
    "    if pos_shapiro_p > 0.05 and neg_shapiro_p > 0.05 and levene_p > 0.05:\n",
    "        _, ttest_p = stats.ttest_ind(positive, negative, equal_var=True)\n",
    "        test_type = \"t_test\"\n",
    "        test_p = ttest_p\n",
    "    else:\n",
    "        _, mannwhitney_p = stats.mannwhitneyu(positive, negative, alternative='two-sided')\n",
    "        test_type = \"mannwhitney\"\n",
    "        test_p = mannwhitney_p\n",
    "        tf[item] = [pos_shapiro_p, neg_shapiro_p, levene_p, test_type, test_p]\n",
    "\n",
    "tf.index = [\"shapiro_p_chip\", \"shapiro_p_nonchip\", \"levene_p_value\", \"test_used\", \"test_p_value\"]\n",
    "\n",
    "tf = tf.transpose()\n",
    "print(tf)\n",
    "tf.to_excel(\"./statistics.xlsx\")"
   ]
  },
  {
   "cell_type": "code",
   "execution_count": null,
   "id": "94a4d59d-9086-4d3a-82c2-acfac47a3c82",
   "metadata": {},
   "outputs": [],
   "source": []
  }
 ],
 "metadata": {
  "kernelspec": {
   "display_name": "Python 3 (ipykernel)",
   "language": "python",
   "name": "python3"
  },
  "language_info": {
   "codemirror_mode": {
    "name": "ipython",
    "version": 3
   },
   "file_extension": ".py",
   "mimetype": "text/x-python",
   "name": "python",
   "nbconvert_exporter": "python",
   "pygments_lexer": "ipython3",
   "version": "3.13.0"
  }
 },
 "nbformat": 4,
 "nbformat_minor": 5
}
